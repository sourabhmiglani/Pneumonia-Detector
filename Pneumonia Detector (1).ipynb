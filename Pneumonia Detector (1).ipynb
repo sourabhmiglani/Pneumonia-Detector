{
 "cells": [
  {
   "cell_type": "code",
   "execution_count": 1,
   "id": "apart-spectacular",
   "metadata": {},
   "outputs": [],
   "source": [
    "\n",
    "import os\n",
    "import cv2\n"
   ]
  },
  {
   "cell_type": "code",
   "execution_count": 2,
   "id": "vanilla-lloyd",
   "metadata": {},
   "outputs": [
    {
     "name": "stderr",
     "output_type": "stream",
     "text": [
      "100%|█████████████████████████████████████████████████████████████████████████████| 3875/3875 [00:18<00:00, 213.86it/s]\n",
      "100%|██████████████████████████████████████████████████████████████████████████████| 1341/1341 [00:20<00:00, 65.83it/s]\n"
     ]
    }
   ],
   "source": [
    "loc1 = 'chest_xray/train/PNEUMONIA'\n",
    "loc2 = 'chest_xray/train/NORMAL'\n",
    "from tqdm import tqdm\n",
    "features = []\n",
    "labels = []\n",
    "for i in tqdm(os.listdir(loc1)):\n",
    "    try:\n",
    "            \n",
    "        imf = cv2.imread(os.path.join(loc1,i),0)\n",
    "\n",
    "\n",
    "        imf = cv2.resize(imf, (50, 50))\n",
    "        features.append(imf)\n",
    "        labels.append(0)\n",
    "    except:\n",
    "        continue\n",
    "    \n",
    "for i in tqdm(os.listdir(loc2)):\n",
    "    try:\n",
    "            \n",
    "        imf = cv2.imread(os.path.join(loc2,i),0)\n",
    "\n",
    "\n",
    "        imf = cv2.resize(imf, (50, 50))\n",
    "        features.append(imf)\n",
    "        labels.append(1)\n",
    "    except:\n",
    "        continue                \n",
    "            \n",
    "               \n",
    "        \n",
    "    "
   ]
  },
  {
   "cell_type": "code",
   "execution_count": 3,
   "id": "sharing-instrumentation",
   "metadata": {},
   "outputs": [
    {
     "data": {
      "text/plain": [
       "(5216, 50, 50)"
      ]
     },
     "execution_count": 3,
     "metadata": {},
     "output_type": "execute_result"
    }
   ],
   "source": [
    "import numpy as np\n",
    "X = np.array(features)\n",
    "X.shape"
   ]
  },
  {
   "cell_type": "code",
   "execution_count": 4,
   "id": "ready-engineer",
   "metadata": {},
   "outputs": [
    {
     "data": {
      "text/plain": [
       "(5216,)"
      ]
     },
     "execution_count": 4,
     "metadata": {},
     "output_type": "execute_result"
    }
   ],
   "source": [
    "import numpy as np\n",
    "Y = np.array(labels)\n",
    "Y.shape"
   ]
  },
  {
   "cell_type": "code",
   "execution_count": 5,
   "id": "exposed-letter",
   "metadata": {},
   "outputs": [],
   "source": [
    "Xt = X.reshape(5216,2500)/X.max()\n",
    "Yt = Y.reshape(5216,1)"
   ]
  },
  {
   "cell_type": "code",
   "execution_count": 6,
   "id": "olive-soundtrack",
   "metadata": {},
   "outputs": [
    {
     "data": {
      "text/plain": [
       "array([[0],\n",
       "       [0],\n",
       "       [0],\n",
       "       ...,\n",
       "       [1],\n",
       "       [1],\n",
       "       [1]])"
      ]
     },
     "execution_count": 6,
     "metadata": {},
     "output_type": "execute_result"
    }
   ],
   "source": [
    "Yt\n"
   ]
  },
  {
   "cell_type": "code",
   "execution_count": 7,
   "id": "intended-investor",
   "metadata": {},
   "outputs": [
    {
     "name": "stderr",
     "output_type": "stream",
     "text": [
      "Using TensorFlow backend.\n"
     ]
    }
   ],
   "source": [
    "import keras\n",
    "from keras.utils import np_utils\n",
    "Yt = np_utils.to_categorical(Yt)"
   ]
  },
  {
   "cell_type": "code",
   "execution_count": 8,
   "id": "convinced-prince",
   "metadata": {},
   "outputs": [
    {
     "data": {
      "text/plain": [
       "array([[1., 0.],\n",
       "       [1., 0.],\n",
       "       [1., 0.],\n",
       "       ...,\n",
       "       [0., 1.],\n",
       "       [0., 1.],\n",
       "       [0., 1.]], dtype=float32)"
      ]
     },
     "execution_count": 8,
     "metadata": {},
     "output_type": "execute_result"
    }
   ],
   "source": [
    "Yt"
   ]
  },
  {
   "cell_type": "code",
   "execution_count": 9,
   "id": "acoustic-provision",
   "metadata": {},
   "outputs": [],
   "source": [
    "from sklearn.model_selection import train_test_split\n",
    "xtrain,xtest,ytrain,ytest = train_test_split(Xt,Yt)"
   ]
  },
  {
   "cell_type": "code",
   "execution_count": 10,
   "id": "stainless-tutorial",
   "metadata": {},
   "outputs": [],
   "source": [
    "from tensorflow.keras import models\n",
    "from tensorflow.keras import layers\n"
   ]
  },
  {
   "cell_type": "code",
   "execution_count": 11,
   "id": "medical-easter",
   "metadata": {},
   "outputs": [],
   "source": [
    "model = models.Sequential()\n",
    "model.add(layers.Dense(256 , activation='relu' , input_dim=xtrain.shape[1]))\n",
    "model.add(layers.Dropout(0.3))\n",
    "model.add(layers.Dense(128 , activation='relu'))\n",
    "model.add(layers.Dropout(0.2))\n",
    "model.add(layers.Dense(256 , activation='relu'))\n",
    "model.add(layers.Dropout(0.2))\n",
    "model.add(layers.Dense(128 , activation='relu'))\n",
    "model.add(layers.Dropout(0.2))\n",
    "model.add(layers.Dense(2 , activation='softmax'))"
   ]
  },
  {
   "cell_type": "code",
   "execution_count": 12,
   "id": "anticipated-lighter",
   "metadata": {},
   "outputs": [
    {
     "name": "stdout",
     "output_type": "stream",
     "text": [
      "Model: \"sequential\"\n",
      "_________________________________________________________________\n",
      "Layer (type)                 Output Shape              Param #   \n",
      "=================================================================\n",
      "dense (Dense)                (None, 256)               640256    \n",
      "_________________________________________________________________\n",
      "dropout (Dropout)            (None, 256)               0         \n",
      "_________________________________________________________________\n",
      "dense_1 (Dense)              (None, 128)               32896     \n",
      "_________________________________________________________________\n",
      "dropout_1 (Dropout)          (None, 128)               0         \n",
      "_________________________________________________________________\n",
      "dense_2 (Dense)              (None, 256)               33024     \n",
      "_________________________________________________________________\n",
      "dropout_2 (Dropout)          (None, 256)               0         \n",
      "_________________________________________________________________\n",
      "dense_3 (Dense)              (None, 128)               32896     \n",
      "_________________________________________________________________\n",
      "dropout_3 (Dropout)          (None, 128)               0         \n",
      "_________________________________________________________________\n",
      "dense_4 (Dense)              (None, 2)                 258       \n",
      "=================================================================\n",
      "Total params: 739,330\n",
      "Trainable params: 739,330\n",
      "Non-trainable params: 0\n",
      "_________________________________________________________________\n"
     ]
    }
   ],
   "source": [
    "model.summary()"
   ]
  },
  {
   "cell_type": "code",
   "execution_count": 13,
   "id": "possible-confirmation",
   "metadata": {},
   "outputs": [],
   "source": [
    "from keras import optimizers\n",
    "from keras import metrics\n"
   ]
  },
  {
   "cell_type": "code",
   "execution_count": 14,
   "id": "latin-pepper",
   "metadata": {},
   "outputs": [],
   "source": [
    "model.compile(optimizer='sgd',\n",
    "              loss = 'categorical_crossentropy',\n",
    "              metrics=['accuracy'])"
   ]
  },
  {
   "cell_type": "code",
   "execution_count": 16,
   "id": "suburban-margin",
   "metadata": {},
   "outputs": [
    {
     "name": "stdout",
     "output_type": "stream",
     "text": [
      "Epoch 1/100\n",
      "123/123 [==============================] - 1s 5ms/step - loss: 0.0705 - accuracy: 0.9737 - val_loss: 0.2299 - val_accuracy: 0.9256\n",
      "Epoch 2/100\n",
      "123/123 [==============================] - 1s 5ms/step - loss: 0.0682 - accuracy: 0.9760 - val_loss: 0.1200 - val_accuracy: 0.9594\n",
      "Epoch 3/100\n",
      "123/123 [==============================] - 1s 5ms/step - loss: 0.0628 - accuracy: 0.9762 - val_loss: 0.1323 - val_accuracy: 0.9563\n",
      "Epoch 4/100\n",
      "123/123 [==============================] - 1s 7ms/step - loss: 0.0553 - accuracy: 0.9826 - val_loss: 0.1484 - val_accuracy: 0.9578\n",
      "Epoch 5/100\n",
      "123/123 [==============================] - 2s 17ms/step - loss: 0.0690 - accuracy: 0.9757 - val_loss: 0.1269 - val_accuracy: 0.9609\n",
      "Epoch 6/100\n",
      "123/123 [==============================] - 1s 10ms/step - loss: 0.0591 - accuracy: 0.9796 - val_loss: 0.1061 - val_accuracy: 0.9632\n",
      "Epoch 7/100\n",
      "123/123 [==============================] - 1s 11ms/step - loss: 0.0538 - accuracy: 0.9811 - val_loss: 0.1374 - val_accuracy: 0.9601\n",
      "Epoch 8/100\n",
      "123/123 [==============================] - 1s 5ms/step - loss: 0.0595 - accuracy: 0.9775 - val_loss: 0.1348 - val_accuracy: 0.9578\n",
      "Epoch 9/100\n",
      "123/123 [==============================] - 1s 7ms/step - loss: 0.0581 - accuracy: 0.9778 - val_loss: 0.1577 - val_accuracy: 0.9532\n",
      "Epoch 10/100\n",
      "123/123 [==============================] - 2s 16ms/step - loss: 0.0634 - accuracy: 0.9785 - val_loss: 0.1348 - val_accuracy: 0.9502\n",
      "Epoch 11/100\n",
      "123/123 [==============================] - 1s 7ms/step - loss: 0.0601 - accuracy: 0.9796 - val_loss: 0.1306 - val_accuracy: 0.9594\n",
      "Epoch 12/100\n",
      "123/123 [==============================] - 1s 6ms/step - loss: 0.0563 - accuracy: 0.9803 - val_loss: 0.1317 - val_accuracy: 0.9555\n",
      "Epoch 13/100\n",
      "123/123 [==============================] - 1s 7ms/step - loss: 0.0503 - accuracy: 0.9826 - val_loss: 0.1454 - val_accuracy: 0.9586\n",
      "Epoch 14/100\n",
      "123/123 [==============================] - 2s 14ms/step - loss: 0.0636 - accuracy: 0.9770 - val_loss: 0.1537 - val_accuracy: 0.9540\n",
      "Epoch 15/100\n",
      "123/123 [==============================] - 1s 6ms/step - loss: 0.0577 - accuracy: 0.9790 - val_loss: 0.2025 - val_accuracy: 0.9302\n",
      "Epoch 16/100\n",
      "123/123 [==============================] - 1s 7ms/step - loss: 0.0593 - accuracy: 0.9767 - val_loss: 0.1533 - val_accuracy: 0.9555\n",
      "Epoch 17/100\n",
      "123/123 [==============================] - 2s 18ms/step - loss: 0.0586 - accuracy: 0.9767 - val_loss: 0.1428 - val_accuracy: 0.9594\n",
      "Epoch 18/100\n",
      "123/123 [==============================] - 2s 15ms/step - loss: 0.0785 - accuracy: 0.9686 - val_loss: 0.1175 - val_accuracy: 0.9609\n",
      "Epoch 19/100\n",
      "123/123 [==============================] - 1s 7ms/step - loss: 0.0464 - accuracy: 0.9842 - val_loss: 0.1280 - val_accuracy: 0.9609\n",
      "Epoch 20/100\n",
      "123/123 [==============================] - 1s 7ms/step - loss: 0.0582 - accuracy: 0.9772 - val_loss: 0.2426 - val_accuracy: 0.9225\n",
      "Epoch 21/100\n",
      "123/123 [==============================] - 1s 5ms/step - loss: 0.0522 - accuracy: 0.9816 - val_loss: 0.1208 - val_accuracy: 0.9601\n",
      "Epoch 22/100\n",
      "123/123 [==============================] - 1s 7ms/step - loss: 0.0467 - accuracy: 0.9811 - val_loss: 0.1317 - val_accuracy: 0.9609\n",
      "Epoch 23/100\n",
      "123/123 [==============================] - 2s 13ms/step - loss: 0.0529 - accuracy: 0.9803 - val_loss: 0.5160 - val_accuracy: 0.8520\n",
      "Epoch 24/100\n",
      "123/123 [==============================] - 2s 14ms/step - loss: 0.0599 - accuracy: 0.9780 - val_loss: 0.1325 - val_accuracy: 0.9571\n",
      "Epoch 25/100\n",
      "123/123 [==============================] - 1s 8ms/step - loss: 0.0435 - accuracy: 0.9831 - val_loss: 0.1336 - val_accuracy: 0.9624\n",
      "Epoch 26/100\n",
      "123/123 [==============================] - 1s 5ms/step - loss: 0.0464 - accuracy: 0.9836 - val_loss: 0.1368 - val_accuracy: 0.9632\n",
      "Epoch 27/100\n",
      "123/123 [==============================] - 1s 5ms/step - loss: 0.0482 - accuracy: 0.9834 - val_loss: 0.2154 - val_accuracy: 0.9333\n",
      "Epoch 28/100\n",
      "123/123 [==============================] - 1s 5ms/step - loss: 0.0557 - accuracy: 0.9826 - val_loss: 0.1485 - val_accuracy: 0.9555\n",
      "Epoch 29/100\n",
      "123/123 [==============================] - 1s 5ms/step - loss: 0.0459 - accuracy: 0.9862 - val_loss: 0.1418 - val_accuracy: 0.9632\n",
      "Epoch 30/100\n",
      "123/123 [==============================] - 1s 5ms/step - loss: 0.0701 - accuracy: 0.9778 - val_loss: 0.1334 - val_accuracy: 0.9594\n",
      "Epoch 31/100\n",
      "123/123 [==============================] - 1s 5ms/step - loss: 0.0443 - accuracy: 0.9847 - val_loss: 0.1487 - val_accuracy: 0.9571\n",
      "Epoch 32/100\n",
      "123/123 [==============================] - 1s 5ms/step - loss: 0.0522 - accuracy: 0.9816 - val_loss: 0.1517 - val_accuracy: 0.9463\n",
      "Epoch 33/100\n",
      "123/123 [==============================] - 1s 5ms/step - loss: 0.0499 - accuracy: 0.9803 - val_loss: 0.1877 - val_accuracy: 0.9425\n",
      "Epoch 34/100\n",
      "123/123 [==============================] - 1s 5ms/step - loss: 0.0505 - accuracy: 0.9831 - val_loss: 0.1258 - val_accuracy: 0.9578\n",
      "Epoch 35/100\n",
      "123/123 [==============================] - 1s 5ms/step - loss: 0.0410 - accuracy: 0.9862 - val_loss: 0.1772 - val_accuracy: 0.9517\n",
      "Epoch 36/100\n",
      "123/123 [==============================] - 1s 5ms/step - loss: 0.0459 - accuracy: 0.9819 - val_loss: 0.1586 - val_accuracy: 0.9502\n",
      "Epoch 37/100\n",
      "123/123 [==============================] - 1s 5ms/step - loss: 0.0549 - accuracy: 0.9808 - val_loss: 0.2556 - val_accuracy: 0.9202\n",
      "Epoch 38/100\n",
      "123/123 [==============================] - 1s 5ms/step - loss: 0.0541 - accuracy: 0.9808 - val_loss: 0.1238 - val_accuracy: 0.9609\n",
      "Epoch 39/100\n",
      "123/123 [==============================] - 1s 5ms/step - loss: 0.0491 - accuracy: 0.9824 - val_loss: 0.1274 - val_accuracy: 0.9624\n",
      "Epoch 40/100\n",
      "123/123 [==============================] - 1s 5ms/step - loss: 0.0381 - accuracy: 0.9870 - val_loss: 0.1532 - val_accuracy: 0.9609\n",
      "Epoch 41/100\n",
      "123/123 [==============================] - 1s 6ms/step - loss: 0.0508 - accuracy: 0.9783 - val_loss: 0.1387 - val_accuracy: 0.9571\n",
      "Epoch 42/100\n",
      "123/123 [==============================] - 2s 15ms/step - loss: 0.0398 - accuracy: 0.9857 - val_loss: 2.0360 - val_accuracy: 0.6166\n",
      "Epoch 43/100\n",
      "123/123 [==============================] - 1s 7ms/step - loss: 0.1333 - accuracy: 0.9617 - val_loss: 0.1120 - val_accuracy: 0.9609\n",
      "Epoch 44/100\n",
      "123/123 [==============================] - 1s 10ms/step - loss: 0.0496 - accuracy: 0.9829 - val_loss: 0.1402 - val_accuracy: 0.9594\n",
      "Epoch 45/100\n",
      "123/123 [==============================] - 1s 8ms/step - loss: 0.0488 - accuracy: 0.9826 - val_loss: 0.2951 - val_accuracy: 0.9279\n",
      "Epoch 46/100\n",
      "123/123 [==============================] - 2s 17ms/step - loss: 0.0606 - accuracy: 0.9780 - val_loss: 0.1382 - val_accuracy: 0.9601\n",
      "Epoch 47/100\n",
      "123/123 [==============================] - 1s 11ms/step - loss: 0.0492 - accuracy: 0.9801 - val_loss: 0.1565 - val_accuracy: 0.9540\n",
      "Epoch 48/100\n",
      "123/123 [==============================] - 1s 7ms/step - loss: 0.0475 - accuracy: 0.9847 - val_loss: 0.1398 - val_accuracy: 0.9640\n",
      "Epoch 49/100\n",
      "123/123 [==============================] - 1s 7ms/step - loss: 0.0438 - accuracy: 0.9831 - val_loss: 0.1671 - val_accuracy: 0.9463\n",
      "Epoch 50/100\n",
      "123/123 [==============================] - 1s 5ms/step - loss: 0.0450 - accuracy: 0.9824 - val_loss: 0.1834 - val_accuracy: 0.9440\n",
      "Epoch 51/100\n",
      "123/123 [==============================] - 1s 5ms/step - loss: 0.0495 - accuracy: 0.9824 - val_loss: 0.1378 - val_accuracy: 0.9594\n",
      "Epoch 52/100\n",
      "123/123 [==============================] - 1s 5ms/step - loss: 0.0522 - accuracy: 0.9798 - val_loss: 0.1517 - val_accuracy: 0.9532\n",
      "Epoch 53/100\n",
      "123/123 [==============================] - 1s 5ms/step - loss: 0.0464 - accuracy: 0.9829 - val_loss: 0.3402 - val_accuracy: 0.8712\n",
      "Epoch 54/100\n",
      "123/123 [==============================] - 1s 6ms/step - loss: 0.0588 - accuracy: 0.9788 - val_loss: 0.1883 - val_accuracy: 0.9502\n",
      "Epoch 55/100\n",
      "123/123 [==============================] - 2s 15ms/step - loss: 0.0491 - accuracy: 0.9816 - val_loss: 0.1414 - val_accuracy: 0.9548\n",
      "Epoch 56/100\n",
      "123/123 [==============================] - 1s 8ms/step - loss: 0.0402 - accuracy: 0.9859 - val_loss: 0.1413 - val_accuracy: 0.9563\n",
      "Epoch 57/100\n",
      "123/123 [==============================] - 1s 7ms/step - loss: 0.0375 - accuracy: 0.9857 - val_loss: 0.1560 - val_accuracy: 0.9578\n",
      "Epoch 58/100\n",
      "123/123 [==============================] - 2s 18ms/step - loss: 0.0451 - accuracy: 0.9839 - val_loss: 0.1534 - val_accuracy: 0.9563\n",
      "Epoch 59/100\n",
      "123/123 [==============================] - 1s 10ms/step - loss: 0.0547 - accuracy: 0.9811 - val_loss: 0.1529 - val_accuracy: 0.9601\n",
      "Epoch 60/100\n",
      "123/123 [==============================] - 1s 7ms/step - loss: 0.0395 - accuracy: 0.9849 - val_loss: 0.1287 - val_accuracy: 0.9601\n",
      "Epoch 61/100\n",
      "123/123 [==============================] - 1s 6ms/step - loss: 0.0413 - accuracy: 0.9849 - val_loss: 0.1449 - val_accuracy: 0.9647\n",
      "Epoch 62/100\n",
      "123/123 [==============================] - 1s 6ms/step - loss: 0.0348 - accuracy: 0.9865 - val_loss: 0.1683 - val_accuracy: 0.9517\n",
      "Epoch 63/100\n",
      "123/123 [==============================] - 1s 5ms/step - loss: 0.0425 - accuracy: 0.9831 - val_loss: 0.1720 - val_accuracy: 0.9601\n",
      "Epoch 64/100\n",
      "123/123 [==============================] - 1s 5ms/step - loss: 0.0642 - accuracy: 0.9785 - val_loss: 0.1463 - val_accuracy: 0.9578\n",
      "Epoch 65/100\n",
      "123/123 [==============================] - 1s 5ms/step - loss: 0.0591 - accuracy: 0.9793 - val_loss: 0.1509 - val_accuracy: 0.9548\n",
      "Epoch 66/100\n",
      "123/123 [==============================] - 1s 5ms/step - loss: 0.0645 - accuracy: 0.9780 - val_loss: 0.1289 - val_accuracy: 0.9578\n",
      "Epoch 67/100\n",
      "123/123 [==============================] - 1s 5ms/step - loss: 0.0436 - accuracy: 0.9831 - val_loss: 0.1526 - val_accuracy: 0.9624\n",
      "Epoch 68/100\n",
      "123/123 [==============================] - 1s 5ms/step - loss: 0.0442 - accuracy: 0.9847 - val_loss: 0.1274 - val_accuracy: 0.9624\n",
      "Epoch 69/100\n",
      "123/123 [==============================] - 1s 7ms/step - loss: 0.0343 - accuracy: 0.9877 - val_loss: 0.2484 - val_accuracy: 0.9248\n",
      "Epoch 70/100\n",
      "123/123 [==============================] - 2s 15ms/step - loss: 0.0407 - accuracy: 0.9862 - val_loss: 0.1327 - val_accuracy: 0.9617\n",
      "Epoch 71/100\n",
      "123/123 [==============================] - 2s 16ms/step - loss: 0.0438 - accuracy: 0.9824 - val_loss: 0.1590 - val_accuracy: 0.9571\n",
      "Epoch 72/100\n",
      "123/123 [==============================] - 1s 6ms/step - loss: 0.0417 - accuracy: 0.9836 - val_loss: 0.1530 - val_accuracy: 0.9525\n",
      "Epoch 73/100\n",
      "123/123 [==============================] - 1s 7ms/step - loss: 0.0484 - accuracy: 0.9801 - val_loss: 0.1746 - val_accuracy: 0.9540\n",
      "Epoch 74/100\n",
      "123/123 [==============================] - 2s 18ms/step - loss: 0.0369 - accuracy: 0.9880 - val_loss: 0.1488 - val_accuracy: 0.9578\n",
      "Epoch 75/100\n",
      "123/123 [==============================] - 2s 17ms/step - loss: 0.0464 - accuracy: 0.9854 - val_loss: 0.1572 - val_accuracy: 0.9632\n",
      "Epoch 76/100\n",
      "123/123 [==============================] - 2s 15ms/step - loss: 0.0417 - accuracy: 0.9852 - val_loss: 0.1584 - val_accuracy: 0.9555\n",
      "Epoch 77/100\n",
      "123/123 [==============================] - 1s 9ms/step - loss: 0.0386 - accuracy: 0.9847 - val_loss: 0.8474 - val_accuracy: 0.8221\n",
      "Epoch 78/100\n",
      "123/123 [==============================] - 2s 17ms/step - loss: 0.0442 - accuracy: 0.9844 - val_loss: 0.1296 - val_accuracy: 0.9601\n",
      "Epoch 79/100\n",
      "123/123 [==============================] - 1s 7ms/step - loss: 0.0491 - accuracy: 0.9834 - val_loss: 0.1643 - val_accuracy: 0.9525\n",
      "Epoch 80/100\n",
      "123/123 [==============================] - 1s 5ms/step - loss: 0.0614 - accuracy: 0.9788 - val_loss: 0.1443 - val_accuracy: 0.9578\n",
      "Epoch 81/100\n",
      "123/123 [==============================] - 1s 5ms/step - loss: 0.0459 - accuracy: 0.9844 - val_loss: 0.1320 - val_accuracy: 0.9624\n",
      "Epoch 82/100\n",
      "123/123 [==============================] - 1s 6ms/step - loss: 0.0666 - accuracy: 0.9803 - val_loss: 0.1639 - val_accuracy: 0.9494\n",
      "Epoch 83/100\n",
      "123/123 [==============================] - 2s 15ms/step - loss: 0.0491 - accuracy: 0.9836 - val_loss: 0.1402 - val_accuracy: 0.9532\n",
      "Epoch 84/100\n",
      "123/123 [==============================] - 2s 17ms/step - loss: 0.0402 - accuracy: 0.9867 - val_loss: 0.1449 - val_accuracy: 0.9624\n",
      "Epoch 85/100\n",
      "123/123 [==============================] - 1s 9ms/step - loss: 0.0447 - accuracy: 0.9847 - val_loss: 0.3687 - val_accuracy: 0.9149\n",
      "Epoch 86/100\n",
      "123/123 [==============================] - 2s 13ms/step - loss: 0.0659 - accuracy: 0.9767 - val_loss: 0.1211 - val_accuracy: 0.9624\n",
      "Epoch 87/100\n",
      "123/123 [==============================] - 1s 5ms/step - loss: 0.0372 - accuracy: 0.9862 - val_loss: 0.1831 - val_accuracy: 0.9479\n",
      "Epoch 88/100\n",
      "123/123 [==============================] - 1s 5ms/step - loss: 0.0633 - accuracy: 0.9770 - val_loss: 0.1288 - val_accuracy: 0.9586\n",
      "Epoch 89/100\n",
      "123/123 [==============================] - 1s 7ms/step - loss: 0.0445 - accuracy: 0.9842 - val_loss: 0.1441 - val_accuracy: 0.9525\n",
      "Epoch 90/100\n",
      "123/123 [==============================] - 2s 16ms/step - loss: 0.0411 - accuracy: 0.9865 - val_loss: 0.1323 - val_accuracy: 0.9601\n",
      "Epoch 91/100\n",
      "123/123 [==============================] - 1s 10ms/step - loss: 0.0425 - accuracy: 0.9867 - val_loss: 0.1249 - val_accuracy: 0.9578\n",
      "Epoch 92/100\n",
      "123/123 [==============================] - 1s 5ms/step - loss: 0.0799 - accuracy: 0.9742 - val_loss: 0.1389 - val_accuracy: 0.9525\n",
      "Epoch 93/100\n",
      "123/123 [==============================] - 1s 5ms/step - loss: 0.0582 - accuracy: 0.9793 - val_loss: 0.1208 - val_accuracy: 0.9563\n",
      "Epoch 94/100\n",
      "123/123 [==============================] - 1s 5ms/step - loss: 0.0416 - accuracy: 0.9854 - val_loss: 0.1456 - val_accuracy: 0.9555\n",
      "Epoch 95/100\n",
      "123/123 [==============================] - 1s 5ms/step - loss: 0.0563 - accuracy: 0.9798 - val_loss: 0.1166 - val_accuracy: 0.9624\n",
      "Epoch 96/100\n",
      "123/123 [==============================] - 1s 5ms/step - loss: 0.0331 - accuracy: 0.9903 - val_loss: 0.1477 - val_accuracy: 0.9578\n",
      "Epoch 97/100\n",
      "123/123 [==============================] - 1s 5ms/step - loss: 0.0451 - accuracy: 0.9811 - val_loss: 0.1499 - val_accuracy: 0.9594\n",
      "Epoch 98/100\n",
      "123/123 [==============================] - 1s 5ms/step - loss: 0.0485 - accuracy: 0.9834 - val_loss: 0.1341 - val_accuracy: 0.9624\n",
      "Epoch 99/100\n",
      "123/123 [==============================] - 1s 5ms/step - loss: 0.0345 - accuracy: 0.9872 - val_loss: 0.1411 - val_accuracy: 0.9594\n",
      "Epoch 100/100\n",
      "123/123 [==============================] - 1s 5ms/step - loss: 0.0384 - accuracy: 0.9867 - val_loss: 0.2040 - val_accuracy: 0.9525\n"
     ]
    },
    {
     "data": {
      "text/plain": [
       "<tensorflow.python.keras.callbacks.History at 0x2748827f2b0>"
      ]
     },
     "execution_count": 16,
     "metadata": {},
     "output_type": "execute_result"
    }
   ],
   "source": [
    "model.fit(xtrain,ytrain,epochs=100,validation_data = (xtest,ytest))"
   ]
  },
  {
   "cell_type": "code",
   "execution_count": 22,
   "id": "black-thickness",
   "metadata": {},
   "outputs": [
    {
     "name": "stdout",
     "output_type": "stream",
     "text": [
      "123/123 [==============================] - 1s 9ms/step - loss: 0.0235 - accuracy: 0.9923\n",
      "[0.0235117357224226, 0.9923312664031982]\n",
      "41/41 [==============================] - 0s 4ms/step - loss: 0.2040 - accuracy: 0.9525\n",
      "[0.2039908617734909, 0.9524539709091187]\n"
     ]
    }
   ],
   "source": [
    "print(model.evaluate(xtrain,ytrain))\n",
    "print(model.evaluate(xtest,ytest))\n"
   ]
  },
  {
   "cell_type": "code",
   "execution_count": 23,
   "id": "viral-orange",
   "metadata": {},
   "outputs": [
    {
     "data": {
      "text/plain": [
       "array([[2915,    4],\n",
       "       [  26,  967]], dtype=int64)"
      ]
     },
     "execution_count": 23,
     "metadata": {},
     "output_type": "execute_result"
    }
   ],
   "source": [
    "\n",
    "from sklearn.metrics import confusion_matrix\n",
    "confusion_matrix(np.argmax(ytrain,axis=1),np.argmax(model.predict(xtrain),axis=1))\n"
   ]
  },
  {
   "cell_type": "markdown",
   "id": "mysterious-dominican",
   "metadata": {},
   "source": [
    "# validation data"
   ]
  },
  {
   "cell_type": "code",
   "execution_count": 24,
   "id": "consistent-timing",
   "metadata": {},
   "outputs": [
    {
     "name": "stderr",
     "output_type": "stream",
     "text": [
      "100%|████████████████████████████████████████████████████████████████████████████████████| 8/8 [00:00<00:00, 75.85it/s]\n",
      "100%|████████████████████████████████████████████████████████████████████████████████████| 8/8 [00:00<00:00, 45.46it/s]\n"
     ]
    }
   ],
   "source": [
    "lv1 = 'chest_xray/val/PNEUMONIA'\n",
    "lv2 = 'chest_xray/val/NORMAL'\n",
    "\n",
    "val_feature = []\n",
    "for i in tqdm(os.listdir(lv1)):\n",
    "    f = cv2.imread(os.path.join(lv1,i),0)\n",
    "    fr = cv2.resize(f,(50,50))\n",
    "    val_feature.append(fr)\n",
    "    \n",
    "for i in tqdm(os.listdir(lv2)):\n",
    "    f = cv2.imread(os.path.join(lv2,i),0)\n",
    "    fr = cv2.resize(f,(50,50))\n",
    "    val_feature.append(fr)"
   ]
  },
  {
   "cell_type": "code",
   "execution_count": 25,
   "id": "third-vatican",
   "metadata": {},
   "outputs": [
    {
     "data": {
      "text/plain": [
       "(16, 50, 50)"
      ]
     },
     "execution_count": 25,
     "metadata": {},
     "output_type": "execute_result"
    }
   ],
   "source": [
    "Xv = np.array(val_feature)\n",
    "Xv.shape\n"
   ]
  },
  {
   "cell_type": "code",
   "execution_count": 26,
   "id": "infinite-remains",
   "metadata": {},
   "outputs": [],
   "source": [
    "Xv = Xv.reshape(16,2500)/Xv.max()"
   ]
  },
  {
   "cell_type": "code",
   "execution_count": 27,
   "id": "exclusive-washer",
   "metadata": {},
   "outputs": [
    {
     "name": "stderr",
     "output_type": "stream",
     "text": [
      "100%|████████████████████████████████████████████████████████████████████████████████████████████| 8/8 [00:00<?, ?it/s]\n",
      "100%|████████████████████████████████████████████████████████████████████████████████████████████| 8/8 [00:00<?, ?it/s]\n"
     ]
    }
   ],
   "source": [
    "val_labels = []\n",
    "\n",
    "for i in tqdm(os.listdir(lv1)):\n",
    "    val_labels.append(0)\n",
    "    \n",
    "for i in tqdm(os.listdir(lv2)):\n",
    "    val_labels.append(1)"
   ]
  },
  {
   "cell_type": "code",
   "execution_count": 28,
   "id": "entertaining-baltimore",
   "metadata": {},
   "outputs": [],
   "source": [
    "Yv = np.array(val_labels).reshape(-1,1)\n",
    "Yv = np_utils.to_categorical(Yv)"
   ]
  },
  {
   "cell_type": "code",
   "execution_count": 29,
   "id": "conservative-emerald",
   "metadata": {},
   "outputs": [
    {
     "name": "stdout",
     "output_type": "stream",
     "text": [
      "1/1 [==============================] - 0s 18ms/step - loss: 1.1578 - accuracy: 0.7500\n"
     ]
    },
    {
     "data": {
      "text/plain": [
       "[1.1577550172805786, 0.75]"
      ]
     },
     "execution_count": 29,
     "metadata": {},
     "output_type": "execute_result"
    }
   ],
   "source": [
    "model.evaluate(Xv,Yv)"
   ]
  },
  {
   "cell_type": "code",
   "execution_count": 30,
   "id": "twenty-figure",
   "metadata": {},
   "outputs": [],
   "source": [
    "chest_xray = 'chest_xray/val/PNEUMONIA/person1946_bacteria_4874.jpeg'\n",
    "import cv2\n",
    "im = cv2.imread(chest_xray,0)\n",
    "im = cv2.resize(im,(50,50))"
   ]
  },
  {
   "cell_type": "code",
   "execution_count": 31,
   "id": "derived-advance",
   "metadata": {},
   "outputs": [
    {
     "data": {
      "text/plain": [
       "array([[1., 0.]], dtype=float32)"
      ]
     },
     "execution_count": 31,
     "metadata": {},
     "output_type": "execute_result"
    }
   ],
   "source": [
    "model.predict([im.reshape(1,2500)])"
   ]
  },
  {
   "cell_type": "code",
   "execution_count": 32,
   "id": "recent-forward",
   "metadata": {},
   "outputs": [
    {
     "name": "stdout",
     "output_type": "stream",
     "text": [
      "0\n",
      "Pnemonia\n"
     ]
    }
   ],
   "source": [
    "\n",
    "\n",
    "\n",
    "Prections = np.array(['Pnemonia','Normal'])\n",
    "\n",
    "print(np.argmax(model.predict([im.reshape(1,2500)])))\n",
    "print(Prections[np.argmax(model.predict([im.reshape(1,2500)]))])"
   ]
  },
  {
   "cell_type": "code",
   "execution_count": 33,
   "id": "hollow-ottawa",
   "metadata": {},
   "outputs": [
    {
     "data": {
      "image/png": "[encoded data removed]",
      "text/plain": [
       "<Figure size 432x288 with 1 Axes>"
      ]
     },
     "metadata": {
      "needs_background": "light"
     },
     "output_type": "display_data"
    }
   ],
   "source": [
    "import matplotlib.pyplot as plt\n",
    "plt.imshow(im)\n",
    "plt.show()"
   ]
  },
  {
   "cell_type": "code",
   "execution_count": 35,
   "id": "inside-parish",
   "metadata": {},
   "outputs": [],
   "source": [
    "model.save('xray_neuealnetwork.h5')"
   ]
  },
  {
   "cell_type": "code",
   "execution_count": 38,
   "id": "capital-campbell",
   "metadata": {},
   "outputs": [
    {
     "name": "stdout",
     "output_type": "stream",
     "text": [
      "Model: \"sequential\"\n",
      "_________________________________________________________________\n",
      "Layer (type)                 Output Shape              Param #   \n",
      "=================================================================\n",
      "dense (Dense)                (None, 256)               640256    \n",
      "_________________________________________________________________\n",
      "dropout (Dropout)            (None, 256)               0         \n",
      "_________________________________________________________________\n",
      "dense_1 (Dense)              (None, 128)               32896     \n",
      "_________________________________________________________________\n",
      "dropout_1 (Dropout)          (None, 128)               0         \n",
      "_________________________________________________________________\n",
      "dense_2 (Dense)              (None, 256)               33024     \n",
      "_________________________________________________________________\n",
      "dropout_2 (Dropout)          (None, 256)               0         \n",
      "_________________________________________________________________\n",
      "dense_3 (Dense)              (None, 128)               32896     \n",
      "_________________________________________________________________\n",
      "dropout_3 (Dropout)          (None, 128)               0         \n",
      "_________________________________________________________________\n",
      "dense_4 (Dense)              (None, 2)                 258       \n",
      "=================================================================\n",
      "Total params: 739,330\n",
      "Trainable params: 739,330\n",
      "Non-trainable params: 0\n",
      "_________________________________________________________________\n"
     ]
    }
   ],
   "source": [
    "model.summary()"
   ]
  },
  {
   "cell_type": "code",
   "execution_count": null,
   "id": "adjacent-melissa",
   "metadata": {},
   "outputs": [],
   "source": [
    "import pickle\n"
   ]
  },
  {
   "cell_type": "code",
   "execution_count": null,
   "id": "consecutive-weather",
   "metadata": {},
   "outputs": [],
   "source": [
    "filename = 'xray_randomforest.sav'\n",
    "pickle.dump(rmodel, open(filename, 'wb'))"
   ]
  },
  {
   "cell_type": "code",
   "execution_count": null,
   "id": "wound-hello",
   "metadata": {},
   "outputs": [],
   "source": []
  }
 ],
 "metadata": {
  "kernelspec": {
   "display_name": "ml",
   "language": "python",
   "name": "ml"
  },
  "language_info": {
   "codemirror_mode": {
    "name": "ipython",
    "version": 3
   },
   "file_extension": ".py",
   "mimetype": "text/x-python",
   "name": "python",
   "nbconvert_exporter": "python",
   "pygments_lexer": "ipython3",
   "version": "3.8.8"
  }
 },
 "nbformat": 4,
 "nbformat_minor": 5
}
